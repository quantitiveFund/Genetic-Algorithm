{
 "cells": [
  {
   "cell_type": "code",
   "execution_count": 86,
   "id": "5a781050",
   "metadata": {
    "ExecuteTime": {
     "end_time": "2021-09-29T16:11:27.464051Z",
     "start_time": "2021-09-29T16:11:27.450089Z"
    }
   },
   "outputs": [],
   "source": [
    "import pandas as pd\n",
    "import numpy as np\n",
    "from tqdm import tqdm"
   ]
  },
  {
   "cell_type": "code",
   "execution_count": 2,
   "id": "a41a1de8",
   "metadata": {
    "ExecuteTime": {
     "end_time": "2021-09-29T13:06:50.265651Z",
     "start_time": "2021-09-29T13:06:48.771223Z"
    }
   },
   "outputs": [],
   "source": [
    "df_50 = pd.read_excel('上证50.xlsx')\n",
    "df_shidai = pd.read_excel('中欧时代先锋.xlsx')\n",
    "df_500 = pd.read_excel('中证500.xlsx')\n",
    "df_yiliao = pd.read_excel('医疗etf.xlsx')\n",
    "df_bandaoti = pd.read_excel('半导体.xlsx')\n",
    "df_fuguo = pd.read_excel('富国天惠.xlsx')\n",
    "df_guangfa = pd.read_excel('广发双擎升级.xlsx')\n",
    "df_yifangda = pd.read_excel('易方达.xlsx')\n",
    "df_youse = pd.read_excel('有色金属.xlsx')\n",
    "df_300 = pd.read_excel('沪深300.xlsx')\n",
    "df_baijiu = pd.read_excel('白酒.xlsx')"
   ]
  },
  {
   "cell_type": "code",
   "execution_count": 3,
   "id": "4dd5b879",
   "metadata": {
    "ExecuteTime": {
     "end_time": "2021-09-29T13:06:51.864148Z",
     "start_time": "2021-09-29T13:06:51.850044Z"
    }
   },
   "outputs": [],
   "source": [
    "def pre_process(data):\n",
    "    data.set_index(['日期'],drop = True,inplace = True)\n",
    "    data = data.head(-2)\n",
    "    data = data['收盘价(元)'].truncate(before = '2021-01-15')\n",
    "    return data\n"
   ]
  },
  {
   "cell_type": "code",
   "execution_count": 4,
   "id": "d8431479",
   "metadata": {
    "ExecuteTime": {
     "end_time": "2021-09-29T13:06:53.443722Z",
     "start_time": "2021-09-29T13:06:53.428954Z"
    }
   },
   "outputs": [],
   "source": [
    "name_list = [df_50,df_shidai,df_500,df_yiliao,df_bandaoti,df_fuguo,df_guangfa,df_yifangda,df_youse,df_300,df_baijiu]\n",
    "index_list = [\"50\",\"shidai\",\"500\",\"yiliao\",\"bandaoti\",\"fuguo\",\"guangfa\",\"yifangda\",\"youse\",\"300\",\"baijiu\"]\n",
    "\n",
    "df = pd.concat([pre_process(i) for i in name_list],axis = 1)\n",
    "df.columns = ['close_50','close_shidai','close_500','close_yiliao','close_bandaiti','close_fuguo','close_guangfa','close_yifangda','close_youse','close_300','close_baijiu']\n",
    "df.dropna(how='any',axis = 0,inplace= True)\n",
    "df_yield = df.diff()/df.shift(1)\n",
    "df_yield.dropna(how = 'any',inplace = True ,axis  = 0)\n",
    "df_yield.reset_index(inplace = True,drop = True)"
   ]
  },
  {
   "cell_type": "code",
   "execution_count": 64,
   "id": "0847ede6",
   "metadata": {
    "ExecuteTime": {
     "end_time": "2021-09-29T13:47:55.569880Z",
     "start_time": "2021-09-29T13:47:55.557945Z"
    }
   },
   "outputs": [],
   "source": [
    "#创建收益率array和协方差矩阵\n",
    "# yield_ = df_yield.mean().values\n",
    "yield_ = (df.tail(1).values - df.head(1).values)/df.head(1).values\n",
    "cov_ = np.cov(df_yield,rowvar= False)"
   ]
  },
  {
   "cell_type": "code",
   "execution_count": 97,
   "id": "846c76de",
   "metadata": {
    "ExecuteTime": {
     "end_time": "2021-09-30T02:55:54.966958Z",
     "start_time": "2021-09-30T02:55:54.951033Z"
    }
   },
   "outputs": [],
   "source": [
    "#导入ga模块\n",
    "# DNA_SIZE = 10     #设定DNA长度      \n",
    "POP_SIZE = 100     #设定种群大小\n",
    "DNA_SIZE = 2 \n",
    "CROSS_RATE = 0.8      #设定匹配可能性大小   \n",
    "MUTATION_RATE = 0.03    #基因变异的可能性大小\n",
    "N_GENERATIONS = 2000      #繁衍总次数  "
   ]
  },
  {
   "cell_type": "code",
   "execution_count": 136,
   "id": "89735508",
   "metadata": {
    "ExecuteTime": {
     "end_time": "2021-09-30T03:21:53.198263Z",
     "start_time": "2021-09-30T03:21:53.175285Z"
    }
   },
   "outputs": [],
   "source": [
    "#适应性函数（在曲线中的高度）\n",
    "def get_fitness(pop1,pop2): \n",
    "    \n",
    "#     temp = np.zeros((pop1.shape[0],1))\n",
    "    temp = []\n",
    "    for i in range(len(pop1)):\n",
    "        rp = pop2[i] * yield_[0][pop1[i][0]] + (1-pop2[i])*yield_[0][pop1[i][1]] - 0.05\n",
    "        varp = pop2[i] **2 * cov_[pop1[i][0],pop1[i][0]] + (1- pop2[i] )**2 * cov_[pop1[i][1],pop1[i][1]] + 2* pop2[i] *(1- pop2[i] ) * cov_[pop1[i][0],pop1[i][1]]\n",
    "        sharp_ratio= rp/np.sqrt(varp)\n",
    "        temp.append(sharp_ratio)\n",
    "    return temp\n",
    "\n",
    "def re_fitness(temp):\n",
    "    return temp -min(temp) + 1e-3\n",
    "\n",
    "#选择留下来的人,\n",
    "def select(pop1,pop2, fitness):    \n",
    "    index = np.random.choice(np.arange(POP_SIZE), size=POP_SIZE, replace=True,p=fitness/fitness.sum())\n",
    "    return pop1[index],pop2[index]\n",
    "\n",
    "#父母DNA结合过程\n",
    "def crossover(parent, pop):     \n",
    "    if np.random.rand() < CROSS_RATE:\n",
    "        i_ = np.random.randint(0, POP_SIZE, size=1)                            \n",
    "#         cross_points = np.random.randint(0, 2, size=DNA_SIZE).astype(np.bool)  \n",
    "#         parent[cross_points] = pop[i_, cross_points] \n",
    "        parent[0] = pop[i_[0]][1]\n",
    "    return parent\n",
    "\n",
    "#繁衍变异过程\n",
    "def mutate_com(child):\n",
    "    if np.random.rand() < MUTATION_RATE:\n",
    "#         child[point] = 1 if child[point] == 0 else 0\n",
    "        child = np.random.randint(11,size = 2)\n",
    "    return child\n",
    "\n",
    "def mutate_w(child):\n",
    "    if np.random.rand() < MUTATION_RATE:\n",
    "        child = np.random.random(1)\n",
    "    return child"
   ]
  },
  {
   "cell_type": "code",
   "execution_count": 99,
   "id": "ade2a114",
   "metadata": {
    "ExecuteTime": {
     "end_time": "2021-09-30T02:56:01.750821Z",
     "start_time": "2021-09-30T02:56:01.736895Z"
    }
   },
   "outputs": [],
   "source": [
    "#随机生成100*2的种群\n",
    "pop1 = np.random.randint(11, size=(POP_SIZE, DNA_SIZE))   \n",
    "pop2 = np.random.random(POP_SIZE)\n",
    "# pop2 = np.append(pop2.reshape(POP_SIZE,1),(1-pop2).reshape(POP_SIZE,1),axis = 1)"
   ]
  },
  {
   "cell_type": "code",
   "execution_count": 174,
   "id": "09e0186c",
   "metadata": {
    "ExecuteTime": {
     "end_time": "2021-09-30T05:47:07.557077Z",
     "start_time": "2021-09-30T05:47:03.211341Z"
    }
   },
   "outputs": [
    {
     "name": "stderr",
     "output_type": "stream",
     "text": [
      "100%|█████████████████████████████████████████████████████████████████████████████| 2000/2000 [00:04<00:00, 462.38it/s]"
     ]
    },
    {
     "name": "stdout",
     "output_type": "stream",
     "text": [
      "Best_match: [8 8] 0.3632772518660238\n",
      "sharp_ratio: 9.928230629585647\n",
      "买入: youse 比重为: 0.3632772518660238 和: youse 比重为: 0.6367227481339762\n"
     ]
    },
    {
     "name": "stderr",
     "output_type": "stream",
     "text": [
      "\n"
     ]
    }
   ],
   "source": [
    "#主循环部分\n",
    "for _ in tqdm(range(N_GENERATIONS)):\n",
    "    \n",
    "    # 遗传进化部分\n",
    "    sharp_r = get_fitness(pop1,pop2)\n",
    "    fitness = re_fitness(sharp_r)\n",
    "    \n",
    "#     print(\"Most fitted DNA: \", pop[np.argmax(fitness), :])\n",
    "    \n",
    "    pop1,pop2 = select(pop1,pop2, fitness)\n",
    "    pop1_copy,pop2_copy = pop1.copy(),pop2.copy()\n",
    "    \n",
    "    for i,parent in enumerate(pop1):\n",
    "        child = crossover(parent, pop1_copy)\n",
    "        child = mutate_com(child)\n",
    "#         parent = child\n",
    "        pop1[i,:] = child    #下一代替换\n",
    "    \n",
    "    for i, parent in enumerate(pop2):\n",
    "        child = mutate_w(parent)\n",
    "#         parent[:] = child\n",
    "        pop2[i] = child\n",
    "    \n",
    "print('Best_match:',pop1[np.argmax(sharp_r)],pop2[np.argmax(sharp_r)])\n",
    "print('sharp_ratio:',sharp_r[np.argmax(sharp_r)])\n",
    "print('买入:' ,index_list[[pop1[np.argmax(sharp_r)]][0][0]],'比重为:',pop2[np.argmax(sharp_r)],'和:',index_list[[pop1[np.argmax(sharp_r)]][0][1]],'比重为:',1-pop2[np.argmax(sharp_r)])"
   ]
  }
 ],
 "metadata": {
  "kernelspec": {
   "display_name": "Python 3",
   "language": "python",
   "name": "python3"
  },
  "language_info": {
   "codemirror_mode": {
    "name": "ipython",
    "version": 3
   },
   "file_extension": ".py",
   "mimetype": "text/x-python",
   "name": "python",
   "nbconvert_exporter": "python",
   "pygments_lexer": "ipython3",
   "version": "3.7.0"
  },
  "toc": {
   "base_numbering": 1,
   "nav_menu": {},
   "number_sections": true,
   "sideBar": true,
   "skip_h1_title": false,
   "title_cell": "Table of Contents",
   "title_sidebar": "Contents",
   "toc_cell": false,
   "toc_position": {},
   "toc_section_display": true,
   "toc_window_display": false
  },
  "varInspector": {
   "cols": {
    "lenName": 16,
    "lenType": 16,
    "lenVar": 40
   },
   "kernels_config": {
    "python": {
     "delete_cmd_postfix": "",
     "delete_cmd_prefix": "del ",
     "library": "var_list.py",
     "varRefreshCmd": "print(var_dic_list())"
    },
    "r": {
     "delete_cmd_postfix": ") ",
     "delete_cmd_prefix": "rm(",
     "library": "var_list.r",
     "varRefreshCmd": "cat(var_dic_list()) "
    }
   },
   "types_to_exclude": [
    "module",
    "function",
    "builtin_function_or_method",
    "instance",
    "_Feature"
   ],
   "window_display": false
  }
 },
 "nbformat": 4,
 "nbformat_minor": 5
}
